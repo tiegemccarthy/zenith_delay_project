{
 "cells": [
  {
   "cell_type": "code",
   "execution_count": 1,
   "id": "cde715dd",
   "metadata": {},
   "outputs": [],
   "source": [
    "import numpy as np\n",
    "import netCDF4 as nc\n",
    "import matplotlib.pyplot as plt\n",
    "#from ncplot import view\n",
    "# supressing the ncplot warnings\n",
    "import warnings\n",
    "warnings.filterwarnings('ignore')"
   ]
  },
  {
   "cell_type": "markdown",
   "id": "22ea096e",
   "metadata": {},
   "source": [
    "# Refractivity Calculation"
   ]
  },
  {
   "cell_type": "markdown",
   "id": "73c1f541",
   "metadata": {},
   "source": [
    "First lets write the wet refraction formula,\n",
    "\n",
    "$N_w$ = $\\frac{k_2'  p_w  Z_w^{-1}}{T}$ + $\\frac{k_3  p_w  Z_w^{-1}}{T^2}$"
   ]
  },
  {
   "cell_type": "markdown",
   "id": "6eeaaf16",
   "metadata": {},
   "source": [
    "Python code for $Z_w^{-1}$, the inverted wet compressibility from Owens (1967):"
   ]
  },
  {
   "cell_type": "code",
   "execution_count": 2,
   "id": "21564b6c",
   "metadata": {},
   "outputs": [],
   "source": [
    "def invZw(p_wet, T):\n",
    "    inv_Zw = 1 + 1650*(p_wet/T**3)*(1-0.01317*(T-273.15) +  (1.75e-4)*(T-273.15)**2 + (1.44e-6)*(T-273.15)**3)\n",
    "    return inv_Zw"
   ]
  },
  {
   "cell_type": "markdown",
   "id": "0fed4971",
   "metadata": {},
   "source": [
    "Python code for $N_w$, the wet refractivity:"
   ]
  },
  {
   "cell_type": "code",
   "execution_count": 3,
   "id": "b56f9807",
   "metadata": {},
   "outputs": [],
   "source": [
    "def Nw(p_wet, T, inv_Zw, k2prime, k3):\n",
    "    N = (k2prime*p_wet*inv_Zw/T) + (k3*p_wet*inv_Zw/(T**2))\n",
    "    return N"
   ]
  },
  {
   "cell_type": "markdown",
   "id": "6d493229",
   "metadata": {},
   "source": [
    "Python code for $k_2'$:"
   ]
  },
  {
   "cell_type": "code",
   "execution_count": 4,
   "id": "f5abfc8c",
   "metadata": {},
   "outputs": [],
   "source": [
    "def k2prime(k1, k2, M_w = 18.01528, M_d = 28.9647):\n",
    "    k2prime = k2 - k1*(M_w/M_d)\n",
    "    return k2prime"
   ]
  },
  {
   "cell_type": "code",
   "execution_count": 5,
   "id": "16466445",
   "metadata": {},
   "outputs": [],
   "source": [
    "k1 = 77.6900 # K/hPa varies negligibly with atmosphericc carbon dioxide concentration\n",
    "k2 = 71.2952 # K/hPa\n",
    "k3 = 375463 # K^2/hPa"
   ]
  },
  {
   "cell_type": "code",
   "execution_count": 6,
   "id": "8a554e81",
   "metadata": {},
   "outputs": [],
   "source": [
    "# Molar masses are constant up until > 100 km\n",
    "M_w = 18.01528 # Molar mass of water vapour in g/mol\n",
    "M_d = 28.9647 # Molar mass of dry air in g/mol"
   ]
  },
  {
   "cell_type": "code",
   "execution_count": 7,
   "id": "8b217d79",
   "metadata": {},
   "outputs": [],
   "source": [
    "k2prime = k2prime(k1, k2)"
   ]
  },
  {
   "cell_type": "markdown",
   "id": "29b86a33",
   "metadata": {},
   "source": [
    "So what we need for us to calculate the wet refractivity through the troposphere is the T and the partial pressure of water vapour at different altitudes (or air pressure levels).\n",
    "Barra, gives the relative humidity at 37 pressure levels every hour, from this can we calculate the partial pressure of water vapour?\n",
    "\n",
    "Relative Humidity = partial pressure of water vapour / saturation vapour pressure?\n",
    "\n",
    "If so, then saturation vapur pressure is a function of temperature, so this can be calculated at each level! However there is no analytical solution for this? Just estimations or numerical solutions it seems.\n",
    "\n",
    "For now we will use the Magnus approximation outlined in the Boehm book"
   ]
  },
  {
   "cell_type": "code",
   "execution_count": 8,
   "id": "eecff920",
   "metadata": {},
   "outputs": [],
   "source": [
    "def saturationVapourPres(T):\n",
    "    T_cel = T - 273\n",
    "    E = 6.1078*np.exp((17.1*T_cel)/(235+T_cel))\n",
    "    return E"
   ]
  },
  {
   "cell_type": "code",
   "execution_count": 9,
   "id": "4f5e14da",
   "metadata": {},
   "outputs": [],
   "source": [
    "def partialPressureVapour(rel_humidity, satVapPres):\n",
    "    p_w = rel_humidity*satVapPres\n",
    "    return p_w"
   ]
  },
  {
   "cell_type": "markdown",
   "id": "0bf19948",
   "metadata": {},
   "source": [
    "I think we now have everything we need to calculate the refractivity at each of the 37 pressure levels in the BARRA dataset."
   ]
  },
  {
   "cell_type": "markdown",
   "id": "0423d139",
   "metadata": {},
   "source": [
    "# Explore BARRA sample data"
   ]
  },
  {
   "cell_type": "code",
   "execution_count": 10,
   "id": "f5dccda3",
   "metadata": {},
   "outputs": [],
   "source": [
    "# Data is divided into 6 hour chunks for each day, labelled 0000Z, 0600Z, 1200Z, 1800Z\n",
    "# Exploring the air_temp 0000Z sample data\n",
    "ds = nc.Dataset('SAMPLE/air_temp-fc-prs-PT1H-BARRA_TA-v1-20150207T0000Z.nc')"
   ]
  },
  {
   "cell_type": "code",
   "execution_count": 11,
   "id": "9fd67969",
   "metadata": {},
   "outputs": [
    {
     "name": "stdout",
     "output_type": "stream",
     "text": [
      "<class 'netCDF4._netCDF4.Variable'>\n",
      "int32 latitude_longitude()\n",
      "    grid_mapping_name: latitude_longitude\n",
      "    longitude_of_prime_meridian: 0.0\n",
      "    earth_radius: 6371229.0\n",
      "    MD5: c8ed20c23ba91f4577f84c940c86c7db\n",
      "unlimited dimensions: \n",
      "current shape = ()\n",
      "filling on, default _FillValue of -2147483647 used\n",
      "<class 'netCDF4._netCDF4.Variable'>\n",
      "float64 time(time)\n",
      "    axis: T\n",
      "    units: hours since 1970-01-01 00:00:00\n",
      "    standard_name: time\n",
      "    calendar: gregorian\n",
      "    long_name: time\n",
      "    MD5: eb349867a0f5b2610578751204ed59cb\n",
      "unlimited dimensions: \n",
      "current shape = (7,)\n",
      "filling on, default _FillValue of 9.969209968386869e+36 used\n",
      "<class 'netCDF4._netCDF4.Variable'>\n",
      "float64 pressure(pressure)\n",
      "    axis: Z\n",
      "    units: hPa\n",
      "    long_name: pressure\n",
      "    MD5: 42c5cf40497fbc44494688d1aaa796f5\n",
      "unlimited dimensions: \n",
      "current shape = (37,)\n",
      "filling on, default _FillValue of 9.969209968386869e+36 used\n",
      "<class 'netCDF4._netCDF4.Variable'>\n",
      "float32 latitude(latitude)\n",
      "    axis: Y\n",
      "    units: degrees_north\n",
      "    standard_name: latitude\n",
      "    long_name: latitude\n",
      "    MD5: f81799ac8cf7bd0c2b2f20a8ec616038\n",
      "unlimited dimensions: \n",
      "current shape = (508,)\n",
      "filling on, default _FillValue of 9.969209968386869e+36 used\n",
      "<class 'netCDF4._netCDF4.Variable'>\n",
      "float32 longitude(longitude)\n",
      "    axis: X\n",
      "    units: degrees_east\n",
      "    standard_name: longitude\n",
      "    long_name: longitude\n",
      "    MD5: b835aab160fde270f2814bf995dc9ddb\n",
      "unlimited dimensions: \n",
      "current shape = (594,)\n",
      "filling on, default _FillValue of 9.969209968386869e+36 used\n",
      "<class 'netCDF4._netCDF4.Variable'>\n",
      "float64 forecast_period(time)\n",
      "    units: hours\n",
      "    standard_name: forecast_period\n",
      "    long_name: forecast_period\n",
      "    MD5: 77779aca5b43f2463a45cbe7633c5c98\n",
      "unlimited dimensions: \n",
      "current shape = (7,)\n",
      "filling on, default _FillValue of 9.969209968386869e+36 used\n",
      "<class 'netCDF4._netCDF4.Variable'>\n",
      "float64 forecast_reference_time()\n",
      "    units: hours since 1970-01-01 00:00:00\n",
      "    standard_name: forecast_reference_time\n",
      "    calendar: gregorian\n",
      "    long_name: forecast_reference_time\n",
      "    MD5: 835433a6ae335a079f7cd3e64fd4a2b5\n",
      "unlimited dimensions: \n",
      "current shape = ()\n",
      "filling on, default _FillValue of 9.969209968386869e+36 used\n",
      "<class 'netCDF4._netCDF4.Variable'>\n",
      "float32 air_temp(time, pressure, latitude, longitude)\n",
      "    _FillValue: -1073741800.0\n",
      "    standard_name: air_temperature\n",
      "    units: K\n",
      "    um_stash_source: m01s16i203\n",
      "    grid_mapping: latitude_longitude\n",
      "    coordinates: forecast_period forecast_reference_time\n",
      "    long_name: TEMPERATURE ON P LEV/P GRID\n",
      "    stash_code: 16203\n",
      "    wgdos_packing_accuracy: 2^-3\n",
      "    description: Air temperature in pressure co-ordinates.\n",
      "    MD5: a0b39d91cb19ffef432801d6e9d8738b\n",
      "unlimited dimensions: \n",
      "current shape = (7, 37, 508, 594)\n",
      "filling on\n"
     ]
    }
   ],
   "source": [
    "# Print all the variables contained in the air_temp dataset\n",
    "for var in ds.variables.values():\n",
    "    print(var)"
   ]
  },
  {
   "cell_type": "code",
   "execution_count": 12,
   "id": "2d6e39cf",
   "metadata": {},
   "outputs": [
    {
     "data": {
      "text/plain": [
       "masked_array(data=[395355., 395356., 395357., 395358., 395359., 395360.,\n",
       "                   395361.],\n",
       "             mask=False,\n",
       "       fill_value=1e+20)"
      ]
     },
     "execution_count": 12,
     "metadata": {},
     "output_type": "execute_result"
    }
   ],
   "source": [
    "# Print the times for the data\n",
    "ds['time'][:] # 7 time values for 0, 1, 2, 3, 4, 5, 6 hours in the 6 hour netcdf data file"
   ]
  },
  {
   "cell_type": "code",
   "execution_count": 13,
   "id": "4ffd1fa2",
   "metadata": {},
   "outputs": [],
   "source": [
    "# Air_temp array, for each time stamp, there are 37 sub-arrays (1 for each pressure level), \n",
    "# each with 508 arrays (individual lat values) that each have 594 longitude values\n",
    "#ds['air_temp'][1][0][0]"
   ]
  },
  {
   "cell_type": "markdown",
   "id": "cc1e9ec2",
   "metadata": {},
   "source": [
    "Data structure for a given parameter is: dataset[VAR_name][time_index][pressure_index][lat_index][lon_index] "
   ]
  },
  {
   "cell_type": "code",
   "execution_count": 14,
   "id": "648de51e",
   "metadata": {},
   "outputs": [
    {
     "data": {
      "image/png": "[encoded data removed]",
      "text/plain": [
       "<Figure size 432x288 with 1 Axes>"
      ]
     },
     "metadata": {
      "needs_background": "light"
     },
     "output_type": "display_data"
    }
   ],
   "source": [
    "# rough MtP coords: -42.80500 deg lat, 147.439167 deg long\n",
    "\n",
    "fig = plt.figure()\n",
    "ax = fig.add_subplot(111)\n",
    "\n",
    "for lat in ds['latitude']:\n",
    "    lat_array = np.empty(len(ds['longitude']))\n",
    "    lat_array.fill(lat)\n",
    "    plt.scatter(ds['longitude'][:], lat_array, color='k', marker='+',s=100)\n",
    "    plt.xlim([147.3411,147.5411])\n",
    "    plt.ylim([-42.9367,-42.7367])\n",
    "plt.scatter(147.439167, -42.80500, color='r')\n",
    "ax.set_aspect('equal', adjustable='box')"
   ]
  },
  {
   "cell_type": "code",
   "execution_count": 15,
   "id": "281d3651",
   "metadata": {},
   "outputs": [
    {
     "data": {
      "text/plain": [
       "masked_array(data=[1.00e-01, 2.00e-01, 3.00e-01, 5.00e-01, 7.00e-01,\n",
       "                   1.00e+00, 2.00e+00, 3.00e+00, 5.00e+00, 7.00e+00,\n",
       "                   1.00e+01, 2.00e+01, 3.00e+01, 5.00e+01, 7.00e+01,\n",
       "                   1.00e+02, 1.50e+02, 1.75e+02, 2.00e+02, 2.25e+02,\n",
       "                   2.50e+02, 2.75e+02, 3.00e+02, 3.50e+02, 4.00e+02,\n",
       "                   4.50e+02, 5.00e+02, 6.00e+02, 7.00e+02, 7.50e+02,\n",
       "                   8.00e+02, 8.50e+02, 9.00e+02, 9.25e+02, 9.50e+02,\n",
       "                   9.75e+02, 1.00e+03],\n",
       "             mask=False,\n",
       "       fill_value=1e+20)"
      ]
     },
     "execution_count": 15,
     "metadata": {},
     "output_type": "execute_result"
    }
   ],
   "source": [
    "ds['pressure'][:]"
   ]
  },
  {
   "cell_type": "code",
   "execution_count": 16,
   "id": "362fda37",
   "metadata": {},
   "outputs": [],
   "source": [
    "ds_geopht = nc.Dataset('SAMPLE/geop_ht-fc-prs-PT1H-BARRA_TA-v1-20150207T0000Z.nc')"
   ]
  },
  {
   "cell_type": "code",
   "execution_count": 17,
   "id": "57647a71",
   "metadata": {},
   "outputs": [
    {
     "data": {
      "text/plain": [
       "56648.23"
      ]
     },
     "execution_count": 17,
     "metadata": {},
     "output_type": "execute_result"
    }
   ],
   "source": [
    "np.mean(ds_geopht['geop_ht'][2][0][:])"
   ]
  },
  {
   "cell_type": "markdown",
   "id": "2620e92f",
   "metadata": {},
   "source": [
    "Find which long and lat index is closest to MtP."
   ]
  },
  {
   "cell_type": "code",
   "execution_count": 18,
   "id": "6e754278",
   "metadata": {},
   "outputs": [],
   "source": [
    "def find_nearest(array, value):\n",
    "    array = np.asarray(array)\n",
    "    idx = (np.abs(array - value)).argmin()\n",
    "    return idx\n",
    "\n",
    "lat_idx = find_nearest(ds['latitude'], -42.80500)\n",
    "lon_idx = find_nearest(ds['latitude'], 147.439167)"
   ]
  },
  {
   "cell_type": "code",
   "execution_count": 19,
   "id": "5cbfd783",
   "metadata": {},
   "outputs": [
    {
     "data": {
      "text/plain": [
       "masked_array(data=[261.375, 261.375, 261.375, 261.375, 261.375, 261.375,\n",
       "                   261.375, 261.375, 250.   , 242.625, 235.625, 227.375,\n",
       "                   220.875, 212.375, 208.5  , 207.625, 215.875, 218.375,\n",
       "                   217.25 , 218.75 , 224.   , 229.125, 233.75 , 242.125,\n",
       "                   249.25 , 255.625, 261.   , 269.   , 278.   , 282.375,\n",
       "                   286.875, 290.5  , 293.5  , 294.125, 294.25 , 292.75 ,\n",
       "                   290.375],\n",
       "             mask=False,\n",
       "       fill_value=1e+20,\n",
       "            dtype=float32)"
      ]
     },
     "execution_count": 19,
     "metadata": {},
     "output_type": "execute_result"
    }
   ],
   "source": [
    "# playing around with data, these are the air temp values above Mt.P for all 37 pressure values, for the first time.\n",
    "ds['air_temp'][0, :, lat_idx, lon_idx]"
   ]
  },
  {
   "cell_type": "code",
   "execution_count": 20,
   "id": "571ffab4",
   "metadata": {},
   "outputs": [
    {
     "data": {
      "image/png": "[encoded data removed]",
      "text/plain": [
       "<Figure size 432x288 with 1 Axes>"
      ]
     },
     "metadata": {
      "needs_background": "light"
     },
     "output_type": "display_data"
    }
   ],
   "source": [
    "plt.plot(ds['air_temp'][0, :, lat_idx, lon_idx], ds['pressure'][:])\n",
    "plt.ylabel('Pressure (hPa)')\n",
    "plt.xlabel('Air Temperature (K)')\n",
    "plt.gca().invert_yaxis()\n",
    "plt.show()"
   ]
  },
  {
   "cell_type": "code",
   "execution_count": 21,
   "id": "75812cef",
   "metadata": {},
   "outputs": [
    {
     "data": {
      "text/plain": [
       "masked_array(data=[56651., 54432., 52915., 50737., 49118., 47223., 42941.,\n",
       "                   40013., 36207., 33734., 31291., 26634., 23980., 20730.,\n",
       "                   18674., 16515., 14007., 13023., 12171., 11424., 10743.,\n",
       "                   10111.,  9521.,  8447.,  7487.,  6616.,  5818.,  4399.,\n",
       "                    3163.,  2596.,  2057.,  1543.,  1053.,   817.,   586.,\n",
       "                     362.,   145.],\n",
       "             mask=False,\n",
       "       fill_value=1e+20,\n",
       "            dtype=float32)"
      ]
     },
     "execution_count": 21,
     "metadata": {},
     "output_type": "execute_result"
    }
   ],
   "source": [
    "# lets get the corresponding geopotential heights\n",
    "ds_geopht['geop_ht'][0,:,lat_idx, lon_idx]"
   ]
  },
  {
   "cell_type": "code",
   "execution_count": 22,
   "id": "787539f4",
   "metadata": {},
   "outputs": [
    {
     "data": {
      "image/png": "[encoded data removed]",
      "text/plain": [
       "<Figure size 432x288 with 1 Axes>"
      ]
     },
     "metadata": {
      "needs_background": "light"
     },
     "output_type": "display_data"
    }
   ],
   "source": [
    "plt.plot(ds['air_temp'][0, :, lat_idx, lon_idx], ds_geopht['geop_ht'][0,:,lat_idx, lon_idx])\n",
    "plt.ylabel('Altitude (m)')\n",
    "plt.xlabel('Air Temperature (K)')\n",
    "#plt.gca().invert_yaxis()\n",
    "plt.show()"
   ]
  },
  {
   "cell_type": "markdown",
   "id": "65982660",
   "metadata": {},
   "source": [
    "# Calculate refractivity through atmosphere"
   ]
  },
  {
   "cell_type": "code",
   "execution_count": 23,
   "id": "a1ac460b",
   "metadata": {},
   "outputs": [],
   "source": [
    "# Load data\n",
    "ds_air_temp = nc.Dataset('SAMPLE/air_temp-fc-prs-PT1H-BARRA_TA-v1-20150207T0000Z.nc')\n",
    "ds_relhum = nc.Dataset('SAMPLE/relhum-fc-prs-PT1H-BARRA_TA-v1-20150207T0000Z.nc')\n",
    "ds_geop_ht = nc.Dataset('SAMPLE/geop_ht-fc-prs-PT1H-BARRA_TA-v1-20150207T0000Z.nc')"
   ]
  },
  {
   "cell_type": "code",
   "execution_count": 24,
   "id": "d06e82f3",
   "metadata": {},
   "outputs": [],
   "source": [
    "# just consider doing this for a single time (index 0)\n",
    "air_temp = ds_air_temp['air_temp'][0, :, lat_idx, lon_idx]\n",
    "rel_hum = ds_relhum['relhum'][0, :, lat_idx, lon_idx]/100 # need fractional\n",
    "geop_ht = ds_geop_ht['geop_ht'][0, :, lat_idx, lon_idx]"
   ]
  },
  {
   "cell_type": "code",
   "execution_count": 25,
   "id": "6ba8d0fe",
   "metadata": {},
   "outputs": [],
   "source": [
    "N_values = []\n",
    "for i in range(0,len(air_temp)):\n",
    "    T = air_temp[i]\n",
    "    E = saturationVapourPres(T)\n",
    "    p_wet = partialPressureVapour(rel_hum[i], E)\n",
    "    inv_Zw = invZw(p_wet, T)\n",
    "    N_wet = Nw(p_wet, T, inv_Zw, k2prime, k3)\n",
    "    N_values.append(N_wet)"
   ]
  },
  {
   "cell_type": "code",
   "execution_count": 26,
   "id": "77339136",
   "metadata": {},
   "outputs": [
    {
     "data": {
      "image/png": "[encoded data removed]",
      "text/plain": [
       "<Figure size 432x288 with 1 Axes>"
      ]
     },
     "metadata": {
      "needs_background": "light"
     },
     "output_type": "display_data"
    }
   ],
   "source": [
    "plt.plot(N_values, geop_ht/1000)\n",
    "plt.ylabel('Geop_ht (km)')\n",
    "plt.xlabel('Refractivity (mm/km)')\n",
    "plt.gca().invert_yaxis()\n",
    "plt.ylim([0, 20])\n",
    "plt.xlim([-1, 80])\n",
    "plt.show()"
   ]
  },
  {
   "cell_type": "markdown",
   "id": "4e6dcd8f",
   "metadata": {},
   "source": [
    "# Testing ncplot"
   ]
  },
  {
   "cell_type": "code",
   "execution_count": 27,
   "id": "639d3a0f",
   "metadata": {},
   "outputs": [],
   "source": [
    "#view('C:/Users/Tiege/Documents/research/BARRA/SAMPLE/relhum-fc-prs-PT1H-BARRA_TA-v1-20150207T0000Z.nc')"
   ]
  },
  {
   "cell_type": "code",
   "execution_count": 28,
   "id": "6774faf6",
   "metadata": {},
   "outputs": [
    {
     "data": {
      "text/plain": [
       "masked_array(data=[1.0, 1.0, 1.0, 1.0, 1.0, 1.0, 1.0, 1.0, 1.0, 1.0, 1.0,\n",
       "                   1.0, 1.0, 1.0000001192092896, 1.0000001192092896,\n",
       "                   1.0000001192092896, 1.0000001192092896,\n",
       "                   1.0000007152557373, 1.000003695487976,\n",
       "                   1.0000075101852417, 1.000012755393982,\n",
       "                   1.0000194311141968, 1.0000250339508057,\n",
       "                   1.0000275373458862, 1.0000495910644531,\n",
       "                   1.0001460313796997, 1.0001877546310425,\n",
       "                   1.0002036094665527, 1.0003756284713745,\n",
       "                   1.0004069805145264, 1.0003708600997925,\n",
       "                   1.0002949237823486, 1.000314474105835,\n",
       "                   1.0003896951675415, 1.0004467964172363,\n",
       "                   1.0006510019302368, 1.000974416732788],\n",
       "             mask=[False, False, False, False, False, False, False, False,\n",
       "                   False, False, False, False, False, False, False, False,\n",
       "                   False, False, False, False, False, False, False, False,\n",
       "                   False, False, False, False, False, False, False, False,\n",
       "                   False, False, False, False, False],\n",
       "       fill_value=1e+20,\n",
       "            dtype=float32)"
      ]
     },
     "execution_count": 28,
     "metadata": {},
     "output_type": "execute_result"
    }
   ],
   "source": [
    "invZw(partialPressureVapour(rel_hum[:], saturationVapourPres(air_temp)), air_temp)"
   ]
  },
  {
   "cell_type": "code",
   "execution_count": 29,
   "id": "c4332dcc",
   "metadata": {},
   "outputs": [
    {
     "data": {
      "text/plain": [
       "[0.0,\n",
       " 0.0,\n",
       " 0.0,\n",
       " 0.0,\n",
       " 0.0,\n",
       " 0.0,\n",
       " 0.0,\n",
       " 0.0,\n",
       " 0.0,\n",
       " 0.0,\n",
       " 0.0,\n",
       " 0.0009134186421280278,\n",
       " 0.0009102620880531423,\n",
       " 0.0018544043286710511,\n",
       " 0.002382150957044016,\n",
       " 0.0027745438328244275,\n",
       " 0.003852382115410541,\n",
       " 0.016478999581088206,\n",
       " 0.09077985756174307,\n",
       " 0.18884101593222635,\n",
       " 0.3463811452439897,\n",
       " 0.5703171009618547,\n",
       " 0.7938055047653941,\n",
       " 1.0049530773777513,\n",
       " 2.048486929951331,\n",
       " 6.758107181358007,\n",
       " 9.575268121031693,\n",
       " 11.981183202170632,\n",
       " 25.70375964203294,\n",
       " 29.75363089587533,\n",
       " 28.79184598152925,\n",
       " 23.86907463659275,\n",
       " 26.189514181450676,\n",
       " 32.632679969476385,\n",
       " 37.45207473113864,\n",
       " 53.871601323754625,\n",
       " 78.79765452401355]"
      ]
     },
     "execution_count": 29,
     "metadata": {},
     "output_type": "execute_result"
    }
   ],
   "source": [
    "N_values"
   ]
  },
  {
   "cell_type": "code",
   "execution_count": 30,
   "id": "41db501e",
   "metadata": {},
   "outputs": [
    {
     "data": {
      "text/plain": [
       "masked_array(data=[56651., 54432., 52915., 50737., 49118., 47223., 42941.,\n",
       "                   40013., 36207., 33734., 31291., 26634., 23980., 20730.,\n",
       "                   18674., 16515., 14007., 13023., 12171., 11424., 10743.,\n",
       "                   10111.,  9521.,  8447.,  7487.,  6616.,  5818.,  4399.,\n",
       "                    3163.,  2596.,  2057.,  1543.,  1053.,   817.,   586.,\n",
       "                     362.,   145.],\n",
       "             mask=False,\n",
       "       fill_value=1e+20,\n",
       "            dtype=float32)"
      ]
     },
     "execution_count": 30,
     "metadata": {},
     "output_type": "execute_result"
    }
   ],
   "source": [
    "geop_ht"
   ]
  },
  {
   "cell_type": "code",
   "execution_count": 31,
   "id": "a23cdb44",
   "metadata": {},
   "outputs": [
    {
     "data": {
      "text/plain": [
       "masked_array(data=[0.0, 0.0, 0.0, 0.0, 0.0, 0.0, 0.0, 0.0, 0.0, 0.0, 0.0,\n",
       "                   0.0012499999720603228, 0.0024999999441206455,\n",
       "                   0.013749999925494194, 0.028750000521540642,\n",
       "                   0.03750000149011612, 0.01875000074505806,\n",
       "                   0.05999999865889549, 0.3762499988079071,\n",
       "                   0.6587499976158142, 0.6762499809265137,\n",
       "                   0.6524999737739563, 0.574999988079071,\n",
       "                   0.3362500071525574, 0.3737500011920929,\n",
       "                   0.7425000071525574, 0.7024999856948853, 0.5,\n",
       "                   0.5962499976158142, 0.5274999737739563,\n",
       "                   0.39125001430511475, 0.26374998688697815,\n",
       "                   0.24500000476837158, 0.29499998688697815,\n",
       "                   0.3362500071525574, 0.5249999761581421,\n",
       "                   0.8762500286102295],\n",
       "             mask=[False, False, False, False, False, False, False, False,\n",
       "                   False, False, False, False, False, False, False, False,\n",
       "                   False, False, False, False, False, False, False, False,\n",
       "                   False, False, False, False, False, False, False, False,\n",
       "                   False, False, False, False, False],\n",
       "       fill_value=1e+20,\n",
       "            dtype=float32)"
      ]
     },
     "execution_count": 31,
     "metadata": {},
     "output_type": "execute_result"
    }
   ],
   "source": [
    "rel_hum"
   ]
  },
  {
   "cell_type": "code",
   "execution_count": null,
   "id": "bcf7e01c",
   "metadata": {},
   "outputs": [],
   "source": []
  }
 ],
 "metadata": {
  "kernelspec": {
   "display_name": "Python 3 (ipykernel)",
   "language": "python",
   "name": "python3"
  },
  "language_info": {
   "codemirror_mode": {
    "name": "ipython",
    "version": 3
   },
   "file_extension": ".py",
   "mimetype": "text/x-python",
   "name": "python",
   "nbconvert_exporter": "python",
   "pygments_lexer": "ipython3",
   "version": "3.9.7"
  }
 },
 "nbformat": 4,
 "nbformat_minor": 5
}
